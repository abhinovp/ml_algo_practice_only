{
 "cells": [
  {
   "cell_type": "code",
   "execution_count": 48,
   "metadata": {},
   "outputs": [
    {
     "name": "stdout",
     "output_type": "stream",
     "text": [
      "     0    1    2    3\n",
      "0  5.1  3.5  1.4  0.2\n",
      "1  4.9  3.0  1.4  0.2\n",
      "2  4.7  3.2  1.3  0.2\n",
      "3  4.6  3.1  1.5  0.2\n",
      "4  5.0  3.6  1.4  0.2\n",
      "5  5.4  3.9  1.7  0.4\n",
      "6  4.6  3.4  1.4  0.3\n",
      "7  5.0  3.4  1.5  0.2\n",
      "8  4.4  2.9  1.4  0.2\n",
      "9  4.9  3.1  1.5  0.1\n"
     ]
    },
    {
     "data": {
      "text/plain": [
       "(150, 1)"
      ]
     },
     "execution_count": 48,
     "metadata": {},
     "output_type": "execute_result"
    }
   ],
   "source": [
    "# K-means clustering algo for unsupervised training/learning\n",
    "# Source: https://www.youtube.com/watch?v=EItlUEPCIzM&list=PLeo1K3hjS3uvCeTYTeyfe0-rN5r8zn9rw&index=15\n",
    "\n",
    "\n",
    "from sklearn.cluster import KMeans\n",
    "import pandas as ps\n",
    "from sklearn.preprocessing import MinMaxScaler\n",
    "from matplotlib import pyplot as plt\n",
    "%matplotlib inline\n",
    "\n",
    "from sklearn.datasets import load_iris\n",
    "\n",
    "iris = load_iris()\n",
    "\n",
    "# Describing the data set\n",
    "dir(iris)\n",
    "\n",
    "irisdf = ps.DataFrame(iris.data)\n",
    "print(irisdf.head(10))\n",
    "\n",
    "# Defining targets\n",
    "\n",
    "targets = ps.DataFrame(iris.target)\n",
    "targets.shape #head(50)\n"
   ]
  },
  {
   "cell_type": "code",
   "execution_count": 49,
   "metadata": {},
   "outputs": [],
   "source": [
    "#plt.scatter(irisdf[1,2],irisdf[3])\n",
    "\n"
   ]
  },
  {
   "cell_type": "code",
   "execution_count": 54,
   "metadata": {},
   "outputs": [
    {
     "data": {
      "text/plain": [
       "array([0, 0, 0, 0, 0, 0, 0, 0, 0, 0, 0, 0, 0, 0, 0, 0, 0, 0, 0, 0, 0, 0,\n",
       "       0, 0, 0, 0, 0, 0, 0, 0, 0, 0, 0, 0, 0, 0, 0, 0, 0, 0, 0, 0, 0, 0,\n",
       "       0, 0, 0, 0, 0, 0, 1, 1, 1, 2, 1, 2, 1, 2, 1, 2, 2, 2, 2, 2, 2, 1,\n",
       "       2, 2, 2, 2, 2, 2, 2, 2, 1, 1, 1, 1, 2, 2, 2, 2, 2, 2, 2, 2, 1, 2,\n",
       "       2, 2, 2, 2, 2, 2, 2, 2, 2, 2, 2, 2, 1, 2, 1, 1, 1, 1, 2, 1, 1, 1,\n",
       "       1, 1, 1, 2, 2, 1, 1, 1, 1, 2, 1, 2, 1, 2, 1, 1, 2, 2, 1, 1, 1, 1,\n",
       "       1, 2, 2, 1, 1, 1, 2, 1, 1, 1, 2, 1, 1, 1, 2, 1, 1, 2])"
      ]
     },
     "execution_count": 54,
     "metadata": {},
     "output_type": "execute_result"
    }
   ],
   "source": [
    "# Using kmeans it assigned labels into numbers.\n",
    "\n",
    "kmodel = KMeans(n_clusters=3)\n",
    "y_pred = kmodel.fit_predict(irisdf[[0,1]])\n",
    "y_pred"
   ]
  },
  {
   "cell_type": "code",
   "execution_count": 56,
   "metadata": {},
   "outputs": [
    {
     "name": "stdout",
     "output_type": "stream",
     "text": [
      "[[5.006      3.428     ]\n",
      " [6.81276596 3.07446809]\n",
      " [5.77358491 2.69245283]]\n",
      "      0    1    2    3  cluster\n",
      "0   5.1  3.5  1.4  0.2        0\n",
      "1   4.9  3.0  1.4  0.2        0\n",
      "2   4.7  3.2  1.3  0.2        0\n",
      "3   4.6  3.1  1.5  0.2        0\n",
      "4   5.0  3.6  1.4  0.2        0\n",
      "5   5.4  3.9  1.7  0.4        0\n",
      "6   4.6  3.4  1.4  0.3        0\n",
      "7   5.0  3.4  1.5  0.2        0\n",
      "8   4.4  2.9  1.4  0.2        0\n",
      "9   4.9  3.1  1.5  0.1        0\n",
      "10  5.4  3.7  1.5  0.2        0\n",
      "11  4.8  3.4  1.6  0.2        0\n",
      "12  4.8  3.0  1.4  0.1        0\n",
      "13  4.3  3.0  1.1  0.1        0\n",
      "14  5.8  4.0  1.2  0.2        0\n",
      "15  5.7  4.4  1.5  0.4        0\n",
      "16  5.4  3.9  1.3  0.4        0\n",
      "17  5.1  3.5  1.4  0.3        0\n",
      "18  5.7  3.8  1.7  0.3        0\n",
      "19  5.1  3.8  1.5  0.3        0\n"
     ]
    }
   ],
   "source": [
    "#K means cluster centers\n",
    "print(kmodel.cluster_centers_)\n",
    "\n",
    "irisdf['cluster'] = y_pred # Assigning cluster numbers back to DF\n",
    "print(irisdf.head(20))"
   ]
  },
  {
   "cell_type": "code",
   "execution_count": 57,
   "metadata": {},
   "outputs": [
    {
     "data": {
      "text/plain": [
       "<matplotlib.legend.Legend at 0x205a8078490>"
      ]
     },
     "execution_count": 57,
     "metadata": {},
     "output_type": "execute_result"
    },
    {
     "data": {
      "image/png": "[encoded data removed]",
      "text/plain": [
       "<Figure size 432x288 with 1 Axes>"
      ]
     },
     "metadata": {
      "needs_background": "light"
     },
     "output_type": "display_data"
    }
   ],
   "source": [
    "# Seperating each clustered rows into each DF and then plotting \n",
    "df1 = irisdf[irisdf.cluster==0]\n",
    "df2 = irisdf[irisdf.cluster==1]\n",
    "df3 = irisdf[irisdf.cluster==2]\n",
    "plt.scatter(df1[0],df1[2],color='green')\n",
    "plt.scatter(df2[0],df2[2],color='red')\n",
    "plt.scatter(df3[0],df3[2],color='black')\n",
    "plt.scatter(kmodel.cluster_centers_[:,0],kmodel.cluster_centers_[:,1],color='purple',marker='*',label='centroid')\n",
    "plt.legend()"
   ]
  },
  {
   "cell_type": "code",
   "execution_count": null,
   "metadata": {},
   "outputs": [],
   "source": []
  },
  {
   "cell_type": "code",
   "execution_count": 69,
   "metadata": {},
   "outputs": [
    {
     "name": "stdout",
     "output_type": "stream",
     "text": [
      "     0    1    2    3  cluster\n",
      "0  5.1  3.5  1.4  0.2        0\n",
      "1  4.9  3.0  1.4  0.2        0\n",
      "2  4.7  3.2  1.3  0.2        0\n",
      "3  4.6  3.1  1.5  0.2        0\n",
      "4  5.0  3.6  1.4  0.2        0\n",
      "5  5.4  3.9  1.7  0.4        0\n",
      "6  4.6  3.4  1.4  0.3        0\n",
      "7  5.0  3.4  1.5  0.2        0\n",
      "8  4.4  2.9  1.4  0.2        0\n",
      "9  4.9  3.1  1.5  0.1        0\n"
     ]
    }
   ],
   "source": [
    "# Elbow plot\n",
    "print(irisdf.head(10))\n",
    "\n",
    "sse = []\n",
    "k_rng = range(1,8)\n",
    "for k in k_rng:\n",
    "    km = KMeans(n_clusters=k)\n",
    "    km.fit(irisdf[[0,1]])\n",
    "    sse.append(km.inertia_)"
   ]
  },
  {
   "cell_type": "code",
   "execution_count": 70,
   "metadata": {},
   "outputs": [
    {
     "data": {
      "text/plain": [
       "[<matplotlib.lines.Line2D at 0x205aa3589d0>]"
      ]
     },
     "execution_count": 70,
     "metadata": {},
     "output_type": "execute_result"
    },
    {
     "data": {
      "image/png": "[encoded data removed]",
      "text/plain": [
       "<Figure size 432x288 with 1 Axes>"
      ]
     },
     "metadata": {
      "needs_background": "light"
     },
     "output_type": "display_data"
    }
   ],
   "source": [
    "plt.xlabel('K')\n",
    "plt.ylabel('Sum of squared error')\n",
    "plt.plot(k_rng,sse)\n",
    "\n",
    "#optimal with 8 iterations seen as k=3"
   ]
  },
  {
   "cell_type": "code",
   "execution_count": null,
   "metadata": {},
   "outputs": [],
   "source": []
  }
 ],
 "metadata": {
  "kernelspec": {
   "display_name": "Python 3",
   "language": "python",
   "name": "python3"
  },
  "language_info": {
   "codemirror_mode": {
    "name": "ipython",
    "version": 3
   },
   "file_extension": ".py",
   "mimetype": "text/x-python",
   "name": "python",
   "nbconvert_exporter": "python",
   "pygments_lexer": "ipython3",
   "version": "3.8.0"
  }
 },
 "nbformat": 4,
 "nbformat_minor": 4
}
